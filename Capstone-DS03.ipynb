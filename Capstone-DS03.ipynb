# Capstone Project - Obesity Level Prediction

# 1. Import Library
import pandas as pd
import numpy as np
import matplotlib.pyplot as plt
import seaborn as sns
from sklearn.model_selection import train_test_split
from sklearn.preprocessing import LabelEncoder, StandardScaler
from sklearn.ensemble import RandomForestClassifier
from sklearn.linear_model import LogisticRegression
from sklearn.svm import SVC
from sklearn.metrics import classification_report, confusion_matrix
from imblearn.over_sampling import SMOTE
from sklearn.model_selection import GridSearchCV

# 2. Load Dataset
file_path = "/content/drive/MyDrive/Capstone project /ObesityDataSet.csv"  # Ganti sesuai lokasi file
df = pd.read_csv(file_path)

#Define the variable
folder_name = "/content/drive/MyDrive/Capstone project /Capstone-DS03.ipynb"
from google.colab import drive
drive.mount('/content/drive', force_remount=True)

# 3. EDA
print("=== Informasi Dataset ===")
print(df.info())
print("\n=== Statistik Deskriptif ===")
print(df.describe(include='all'))

# Visualisasi distribusi target
sns.countplot(x='NObeyesdad', data=df)
plt.xticks(rotation=45)
plt.title("Distribusi Kelas Obesitas")
plt.show()

# 4. Preprocessing
# Ubah semua kolom object numerik ke float jika memungkinkan
numeric_cols = ['Age', 'Height', 'Weight', 'FCVC', 'NCP', 'CH2O', 'FAF', 'TUE']
for col in numeric_cols:
    df[col] = pd.to_numeric(df[col], errors='coerce')

# Drop missing values
df.dropna(inplace=True)

# Heatmap korelasi antar fitur numerik
plt.figure(figsize=(12, 8))
numerik_df = df[numeric_cols]  # numeric_cols = ['Age', 'Height', 'Weight', 'FCVC', 'NCP', 'CH2O', 'FAF', 'TUE']
sns.heatmap(numerik_df.astype(float).corr(), annot=True, cmap='coolwarm')
plt.title("Korelasi Antar Fitur Numerik")
plt.show()

# Encode target
le = LabelEncoder()
df['NObeyesdad'] = le.fit_transform(df['NObeyesdad'])

# Pisahkan fitur dan target
X = df.drop('NObeyesdad', axis=1)
y = df['NObeyesdad']

# One-hot encoding untuk fitur kategorikal
X = pd.get_dummies(X, drop_first=True)

# Standarisasi fitur
scaler = StandardScaler()
X_scaled = scaler.fit_transform(X)

# Tangani class imbalance
sm = SMOTE(random_state=42)
X_resampled, y_resampled = sm.fit_resample(X_scaled, y)

# Split data
X_train, X_test, y_train, y_test = train_test_split(X_resampled, y_resampled, test_size=0.2, random_state=42)

# 5. Modeling
models = {
    "Logistic Regression": LogisticRegression(max_iter=1000),
    "Random Forest": RandomForestClassifier(),
    "SVM": SVC()
}

results = {}

for name, model in models.items():
    model.fit(X_train, y_train)
    y_pred = model.predict(X_test)
    print(f"\n=== {name} ===")
    print(classification_report(y_test, y_pred))
    print(confusion_matrix(y_test, y_pred))
    results[name] = classification_report(y_test, y_pred, output_dict=True)

# 6. Hyperparameter Tuning untuk Random Forest
param_grid = {
    'n_estimators': [100, 200],
    'max_depth': [None, 10, 20],
    'min_samples_split': [2, 5],
}

gs = GridSearchCV(RandomForestClassifier(), param_grid, cv=3, n_jobs=-1, scoring='accuracy')
gs.fit(X_train, y_train)

print("\n=== Best Parameters (Random Forest) ===")
print(gs.best_params_)

best_rf = gs.best_estimator_
y_pred_best = best_rf.predict(X_test)
print("\n=== Evaluation After Tuning (Random Forest) ===")
print(classification_report(y_test, y_pred_best))
print(confusion_matrix(y_test, y_pred_best))

# Evaluasi akurasi model
from sklearn.metrics import accuracy_score

accuracies = {
    "Logistic Regression": accuracy_score(y_test, models['Logistic Regression'].predict(X_test)),
    "Random Forest": accuracy_score(y_test, models['Random Forest'].predict(X_test)),
    "SVM": accuracy_score(y_test, models['SVM'].predict(X_test)),
    "Random Forest (Tuned)": accuracy_score(y_test, y_pred_best)
}

# Bar chart
plt.figure(figsize=(8, 5))
plt.bar(accuracies.keys(), accuracies.values(), color=['skyblue', 'lightgreen', 'salmon', 'gold'])
plt.ylim(0, 1)
plt.ylabel('Akurasi')
plt.title('Perbandingan Akurasi Model')
plt.xticks(rotation=15)
plt.grid(axis='y')
plt.show()

import pickle

# Simpan model dan scaler
with open('rf_model.pkl', 'wb') as f:
    pickle.dump(best_rf, f)

with open('scaler.pkl', 'wb') as f:
    pickle.dump(scaler, f)

# Simpan daftar kolom setelah one-hot encoding
with open('columns.pkl', 'wb') as f:
    pickle.dump(X.columns.tolist(), f)
